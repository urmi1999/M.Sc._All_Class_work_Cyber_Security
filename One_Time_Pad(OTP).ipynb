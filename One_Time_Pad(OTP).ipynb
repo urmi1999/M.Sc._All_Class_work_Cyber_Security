{
  "nbformat": 4,
  "nbformat_minor": 0,
  "metadata": {
    "colab": {
      "provenance": [],
      "authorship_tag": "ABX9TyP4YfOt8enooCUqXCkqIsr3",
      "include_colab_link": true
    },
    "kernelspec": {
      "name": "python3",
      "display_name": "Python 3"
    },
    "language_info": {
      "name": "python"
    }
  },
  "cells": [
    {
      "cell_type": "markdown",
      "metadata": {
        "id": "view-in-github",
        "colab_type": "text"
      },
      "source": [
        "<a href=\"https://colab.research.google.com/github/urmi1999/M.Sc._All_Class_work_Cyber_Security/blob/main/One_Time_Pad(OTP).ipynb\" target=\"_parent\"><img src=\"https://colab.research.google.com/assets/colab-badge.svg\" alt=\"Open In Colab\"/></a>"
      ]
    },
    {
      "cell_type": "code",
      "execution_count": 7,
      "metadata": {
        "colab": {
          "base_uri": "https://localhost:8080/"
        },
        "id": "-8vuL7fgsOv6",
        "outputId": "a9d37976-2376-4952-b4e8-e94553ccf1b0"
      },
      "outputs": [
        {
          "output_type": "stream",
          "name": "stdout",
          "text": [
            "Key: {'A': 'O', 'B': 'K', 'C': 'U', 'D': 'M', 'E': 'N', 'F': 'H', 'G': 'P', 'H': 'T', 'I': 'X', 'J': 'E', 'K': 'L', 'L': 'I', 'M': 'Z', 'N': 'V', 'O': 'Y', 'P': 'A', 'Q': 'Q', 'R': 'C', 'S': 'D', 'T': 'S', 'U': 'G', 'V': 'F', 'W': 'R', 'X': 'B', 'Y': 'W', 'Z': 'J'}\n",
            "Ciphertext: UWKNC DNUGCXSW \n",
            "Decrypted text: CYBER SECURITY \n"
          ]
        }
      ],
      "source": [
        "import string\n",
        "import random\n",
        "\n",
        "def generate_key():\n",
        "    \"\"\"\n",
        "    Generates a random substitution key.\n",
        "    \"\"\"\n",
        "    letters = list(string.ascii_uppercase)\n",
        "    shuffled = letters[:]\n",
        "    random.shuffle(shuffled)\n",
        "    return dict(zip(letters, shuffled))\n",
        "\n",
        "def encrypt(plaintext, key):\n",
        "    \"\"\"\n",
        "    Encrypts the plaintext using the substitution key.\n",
        "    \"\"\"\n",
        "    plaintext = plaintext.upper()\n",
        "    ciphertext = ''.join(key.get(char, char) for char in plaintext)\n",
        "    return ciphertext\n",
        "\n",
        "def decrypt(ciphertext, key):\n",
        "    \"\"\"\n",
        "    Decrypts the ciphertext using the substitution key.\n",
        "    \"\"\"\n",
        "    reversed_key = {v: k for k, v in key.items()}\n",
        "    plaintext = ''.join(reversed_key.get(char, char) for char in ciphertext)\n",
        "    return plaintext\n",
        "\n",
        "# Example usage\n",
        "if __name__ == \"__main__\":\n",
        "    plaintext = \"CYBER SECURITY \"\n",
        "    key = generate_key()\n",
        "\n",
        "    print(\"Key:\", key)\n",
        "    ciphertext = encrypt(plaintext, key)\n",
        "    print(\"Ciphertext:\", ciphertext)\n",
        "\n",
        "    decrypted_text = decrypt(ciphertext, key)\n",
        "    print(\"Decrypted text:\", decrypted_text)"
      ]
    }
  ]
}