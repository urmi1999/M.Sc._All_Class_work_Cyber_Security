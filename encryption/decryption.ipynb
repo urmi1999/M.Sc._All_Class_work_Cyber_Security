{
  "nbformat": 4,
  "nbformat_minor": 0,
  "metadata": {
    "colab": {
      "provenance": [],
      "authorship_tag": "ABX9TyMuUz56old0BQJyh36Fd+AW",
      "include_colab_link": true
    },
    "kernelspec": {
      "name": "python3",
      "display_name": "Python 3"
    },
    "language_info": {
      "name": "python"
    }
  },
  "cells": [
    {
      "cell_type": "markdown",
      "metadata": {
        "id": "view-in-github",
        "colab_type": "text"
      },
      "source": [
        "<a href=\"https://colab.research.google.com/github/urmi1999/PRNG_practice_MS/blob/main/OTP.ipynb\" target=\"_parent\"><img src=\"https://colab.research.google.com/assets/colab-badge.svg\" alt=\"Open In Colab\"/></a>"
      ]
    },
    {
      "cell_type": "code",
      "execution_count": null,
      "metadata": {
        "id": "n7HN7BgzjdxS"
      },
      "outputs": [],
      "source": []
    },
    {
      "cell_type": "markdown",
      "source": [],
      "metadata": {
        "id": "1_LJKucEjfZS"
      }
    },
    {
      "cell_type": "code",
      "source": [
        "import secrets\n",
        "\n",
        "def generate_key(length: int) -> bytes:\n",
        "    \"\"\"\n",
        "    Generate a random key of the given length.\n",
        "    \"\"\"\n",
        "    return secrets.token_bytes(length)\n",
        "\n",
        "def encrypt_message(plaintext: str, key: bytes) -> bytes:\n",
        "    \"\"\"\n",
        "    Encrypt a plaintext message using a given key.\n",
        "    \"\"\"\n",
        "    plaintext_bytes = plaintext.encode()\n",
        "    if len(key) != len(plaintext_bytes):\n",
        "        raise ValueError(\"Key must be the same length as the plaintext.\")\n",
        "    ciphertext = bytes([p ^ k for p, k in zip(plaintext_bytes, key)])\n",
        "    return ciphertext\n",
        "\n",
        "def decrypt_message(ciphertext: bytes, key: bytes) -> str:\n",
        "    \"\"\"\n",
        "    Decrypt a ciphertext message using a given key.\n",
        "    \"\"\"\n",
        "    if len(key) != len(ciphertext):\n",
        "        raise ValueError(\"Key must be the same length as the ciphertext.\")\n",
        "    plaintext_bytes = bytes([c ^ k for c, k in zip(ciphertext, key)])\n",
        "    return plaintext_bytes.decode()\n",
        "\n",
        "# Example Usage\n",
        "if __name__ == \"__main__\":\n",
        "    # Original message\n",
        "    message = \" 5 6 2 9 1 \"\n",
        "\n",
        "\n",
        "\n",
        "\n",
        "    # Generate a random key\n",
        "    key = generate_key(len(message))\n",
        "\n",
        "    # Encrypt the message\n",
        "    ciphertext = encrypt_message(message, key)\n",
        "    print(f\"Ciphertext: {ciphertext}\")\n",
        "\n",
        "    # Decrypt the message\n",
        "    decrypted_message = decrypt_message(ciphertext, key)\n",
        "    print(f\"Decrypted Message: {decrypted_message}\")\n"
      ],
      "metadata": {
        "colab": {
          "base_uri": "https://localhost:8080/"
        },
        "id": "qm5zK27qjhQy",
        "outputId": "eb8fba2c-307e-4ca9-ab5d-c5da8d336f04"
      },
      "execution_count": 11,
      "outputs": [
        {
          "output_type": "stream",
          "name": "stdout",
          "text": [
            "Ciphertext: b'>\\xa6FG$\\xd2\\xc2\\xa8N\\xf5\\xfe'\n",
            "Decrypted Message:  5 6 2 9 1 \n"
          ]
        }
      ]
    },
    {
      "cell_type": "markdown",
      "source": [],
      "metadata": {
        "id": "61pR4tNejnFe"
      }
    },
    {
      "cell_type": "markdown",
      "source": [
        "Designing a novel one-time pad using Python"
      ],
      "metadata": {
        "id": "EsdcMFT3jnjP"
      }
    }
  ]
}
